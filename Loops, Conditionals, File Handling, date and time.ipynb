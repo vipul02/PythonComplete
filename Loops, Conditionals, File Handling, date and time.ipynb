{
 "cells": [
  {
   "cell_type": "code",
   "execution_count": 1,
   "metadata": {},
   "outputs": [],
   "source": [
    "emails = ['naruto@gmail.com', 'deku@hotmail.com', 'asta@gmail.com']"
   ]
  },
  {
   "cell_type": "code",
   "execution_count": 2,
   "metadata": {},
   "outputs": [
    {
     "name": "stdout",
     "output_type": "stream",
     "text": [
      "naruto@gmail.com\n",
      "asta@gmail.com\n"
     ]
    }
   ],
   "source": [
    "for email in emails:\n",
    "    if 'gmail' in email:\n",
    "        print(email)"
   ]
  },
  {
   "cell_type": "code",
   "execution_count": 5,
   "metadata": {},
   "outputs": [
    {
     "name": "stdout",
     "output_type": "stream",
     "text": [
      "Enter password:jkshdjk\n",
      "Wrong password! Try again\n",
      "Enter password:12345\n",
      "Wrong password! Try again\n",
      "Enter password:9dfjh9\n",
      "Wrong password! Try again\n",
      "Enter password:12345@lol\n",
      "You are logged in!\n"
     ]
    }
   ],
   "source": [
    "password = ''\n",
    "while password != '12345@lol':\n",
    "    password = input('Enter password:')\n",
    "    if password == '12345@lol':\n",
    "        print('You are logged in!')\n",
    "    else:\n",
    "        print('Wrong password! Try again')"
   ]
  },
  {
   "cell_type": "code",
   "execution_count": 6,
   "metadata": {},
   "outputs": [
    {
     "name": "stdout",
     "output_type": "stream",
     "text": [
      "Naruto : 20\n",
      "Luffy : 18\n",
      "Goku : 32\n"
     ]
    }
   ],
   "source": [
    "names = ['Naruto', 'Luffy', 'Goku']\n",
    "ages = ['20', '18', '32']\n",
    "\n",
    "for name, age in zip(names, ages):\n",
    "    print(name, ':', age)"
   ]
  },
  {
   "cell_type": "code",
   "execution_count": 24,
   "metadata": {},
   "outputs": [
    {
     "name": "stdout",
     "output_type": "stream",
     "text": [
      "Hello\n",
      "luci\n",
      "how are you?\n"
     ]
    }
   ],
   "source": [
    "# reading\n",
    "file = open('testing.txt', 'r')\n",
    "content = file.read()\n",
    "file.close()\n",
    "print(content)"
   ]
  },
  {
   "cell_type": "code",
   "execution_count": 25,
   "metadata": {},
   "outputs": [
    {
     "name": "stdout",
     "output_type": "stream",
     "text": [
      "<class 'str'>\n",
      "H\n",
      "<class 'list'>\n",
      "['Hello', 'luci', 'how are you?']\n",
      "Lentgth of line 1 is 5\n",
      "Lentgth of line 2 is 4\n",
      "Lentgth of line 3 is 12\n"
     ]
    }
   ],
   "source": [
    "# priting length of each line in a file\n",
    "file = open('testing.txt', 'r')\n",
    "content = file.read()\n",
    "file.close()\n",
    "print(type(content))\n",
    "print(content[0])\n",
    "content = content.split('\\n')\n",
    "print(type(content))\n",
    "print(content)\n",
    "for i, line in enumerate(content):\n",
    "    print('Lentgth of line', i + 1, 'is', len(line))"
   ]
  },
  {
   "cell_type": "code",
   "execution_count": 26,
   "metadata": {},
   "outputs": [
    {
     "name": "stdout",
     "output_type": "stream",
     "text": [
      "5\n",
      "4\n",
      "12\n"
     ]
    }
   ],
   "source": [
    "# printing length of ecah line in a file [another approach]\n",
    "file = open('testing.txt', 'r')\n",
    "content = file.readlines()\n",
    "file.close()\n",
    "for line in content:\n",
    "    print(len(line.strip()))"
   ]
  },
  {
   "cell_type": "code",
   "execution_count": 36,
   "metadata": {},
   "outputs": [],
   "source": [
    "# writing to a new file\n",
    "file = open('num.txt', 'w')\n",
    "nums = [1, 2, 3]\n",
    "for i in range(len(nums)):\n",
    "    file.write(str(nums[i]) + '\\n')\n",
    "file.close()"
   ]
  },
  {
   "cell_type": "code",
   "execution_count": 39,
   "metadata": {},
   "outputs": [],
   "source": [
    "temperatures=[10,-20,-289,100]\n",
    "def c_to_f(c):\n",
    "    if c< -273.15:\n",
    "        return \"That temperature doesn't make sense!\"\n",
    "    else:\n",
    "        f=c*9/5+32\n",
    "        return f\n",
    "with open('num.txt', 'a') as file:\n",
    "    for t in temperatures:\n",
    "        file.write(str(c_to_f(t)) + '\\n')"
   ]
  },
  {
   "cell_type": "code",
   "execution_count": 40,
   "metadata": {},
   "outputs": [],
   "source": [
    "# todo: os module, __doc__ , imp module"
   ]
  },
  {
   "cell_type": "code",
   "execution_count": 41,
   "metadata": {},
   "outputs": [],
   "source": [
    "# Working with date and time\n",
    "import datetime\n",
    "\n",
    "def createFile(filename):\n",
    "    file = open(filename, 'w')\n",
    "    file.write(\"\")"
   ]
  },
  {
   "cell_type": "code",
   "execution_count": 54,
   "metadata": {},
   "outputs": [],
   "source": [
    "fileName = datetime.datetime.now().strftime('%Y-%m-%d %H_%M_%S_%f')"
   ]
  },
  {
   "cell_type": "code",
   "execution_count": 55,
   "metadata": {},
   "outputs": [
    {
     "data": {
      "text/plain": [
       "'2019-05-29 15_25_48_950023'"
      ]
     },
     "execution_count": 55,
     "metadata": {},
     "output_type": "execute_result"
    }
   ],
   "source": [
    "fileName"
   ]
  },
  {
   "cell_type": "code",
   "execution_count": 57,
   "metadata": {},
   "outputs": [],
   "source": [
    "createFile(fileName + '.txt')"
   ]
  },
  {
   "cell_type": "code",
   "execution_count": 59,
   "metadata": {},
   "outputs": [],
   "source": [
    "import time\n",
    "with open(fileName + '.txt', 'a') as file:\n",
    "    for i in range(5):\n",
    "        file.write(str(datetime.datetime.now()) + '\\n')\n",
    "        time.sleep(1)"
   ]
  },
  {
   "cell_type": "code",
   "execution_count": 63,
   "metadata": {},
   "outputs": [],
   "source": [
    "# merging contents of three files\n",
    "mergeFile = datetime.datetime.now().strftime('%Y-%m-%d %H_%M_%S_%f') + '.txt'\n",
    "files = ['testing.txt', 'num.txt', fileName + '.txt']\n",
    "with open(mergeFile, 'w') as mergerFile:\n",
    "    for file in files:\n",
    "        f = open(file, 'r')\n",
    "        mergerFile.write('----------\\n' + f.read() + '\\n\\n')\n",
    "        f.close()"
   ]
  },
  {
   "cell_type": "code",
   "execution_count": null,
   "metadata": {},
   "outputs": [],
   "source": [
    "# todo glob2 module, used to read all the files in a directory"
   ]
  }
 ],
 "metadata": {
  "kernelspec": {
   "display_name": "Python 3",
   "language": "python",
   "name": "python3"
  },
  "language_info": {
   "codemirror_mode": {
    "name": "ipython",
    "version": 3
   },
   "file_extension": ".py",
   "mimetype": "text/x-python",
   "name": "python",
   "nbconvert_exporter": "python",
   "pygments_lexer": "ipython3",
   "version": "3.7.0"
  }
 },
 "nbformat": 4,
 "nbformat_minor": 2
}
