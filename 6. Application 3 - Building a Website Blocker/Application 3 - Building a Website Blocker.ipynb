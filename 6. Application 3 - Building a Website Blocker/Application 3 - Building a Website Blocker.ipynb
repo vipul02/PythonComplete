{
 "cells": [
  {
   "cell_type": "code",
   "execution_count": 1,
   "metadata": {},
   "outputs": [],
   "source": [
    "import time\n",
    "from datetime import datetime as dt"
   ]
  },
  {
   "cell_type": "code",
   "execution_count": 5,
   "metadata": {},
   "outputs": [],
   "source": [
    "hosts_orignal = r'C:\\Windows\\System32\\drivers\\etc\\hosts'\n",
    "hosts_temp = 'hosts'\n",
    "hosts_original_copy = 'hosts_original_copy'\n",
    "redirect = '127.0.0.1'\n",
    "website_block = [\"www.facebook.com\", \"facebook.com\"]"
   ]
  },
  {
   "cell_type": "code",
   "execution_count": 10,
   "metadata": {},
   "outputs": [
    {
     "name": "stdout",
     "output_type": "stream",
     "text": [
      "before:\n",
      " # Copyright (c) 1993-2009 Microsoft Corp.\n",
      "#\n",
      "# This is a sample HOSTS file used by Microsoft TCP/IP for Windows.\n",
      "#\n",
      "# This file contains the mappings of IP addresses to host names. Each\n",
      "# entry should be kept on an individual line. The IP address should\n",
      "# be placed in the first column followed by the corresponding host name.\n",
      "# The IP address and the host name should be separated by at least one\n",
      "# space.\n",
      "#\n",
      "# Additionally, comments (such as these) may be inserted on individual\n",
      "# lines or following the machine name denoted by a '#' symbol.\n",
      "#\n",
      "# For example:\n",
      "#\n",
      "#      102.54.94.97     rhino.acme.com          # source server\n",
      "#       38.25.63.10     x.acme.com              # x client host\n",
      "\n",
      "# localhost name resolution is handled within DNS itself.\n",
      "#\t127.0.0.1       localhost\n",
      "#\t::1             localhost\n",
      "\n",
      "after:\n",
      " \n",
      "Working hours...\n",
      "before:\n",
      " # Copyright (c) 1993-2009 Microsoft Corp.\n",
      "#\n",
      "# This is a sample HOSTS file used by Microsoft TCP/IP for Windows.\n",
      "#\n",
      "# This file contains the mappings of IP addresses to host names. Each\n",
      "# entry should be kept on an individual line. The IP address should\n",
      "# be placed in the first column followed by the corresponding host name.\n",
      "# The IP address and the host name should be separated by at least one\n",
      "# space.\n",
      "#\n",
      "# Additionally, comments (such as these) may be inserted on individual\n",
      "# lines or following the machine name denoted by a '#' symbol.\n",
      "#\n",
      "# For example:\n",
      "#\n",
      "#      102.54.94.97     rhino.acme.com          # source server\n",
      "#       38.25.63.10     x.acme.com              # x client host\n",
      "\n",
      "# localhost name resolution is handled within DNS itself.\n",
      "#\t127.0.0.1       localhost\n",
      "#\t::1             localhost\n",
      "127.0.0.1\twww.facebook.com\n",
      "127.0.0.1\tfacebook.com\n",
      "\n",
      "after:\n",
      " \n",
      "Working hours...\n"
     ]
    }
   ],
   "source": [
    "i = 0\n",
    "while i<2:\n",
    "    i += 1\n",
    "    if dt(dt.now().year, dt.now().month, dt.now().day, 16) > dt.now():\n",
    "        with open(hosts_temp, 'r+') as file:\n",
    "            content = file.read()\n",
    "            print('before:\\n', content)\n",
    "            for website in website_block:\n",
    "                file.write(redirect + '\\t' + website + '\\n')\n",
    "            file.flush()\n",
    "            content = file.read()\n",
    "            print('after:\\n', content)\n",
    "        print('Working hours...')\n",
    "    else:\n",
    "        print('Fun hours...')\n",
    "    time.sleep(4)"
   ]
  },
  {
   "cell_type": "code",
   "execution_count": null,
   "metadata": {},
   "outputs": [],
   "source": []
  },
  {
   "cell_type": "code",
   "execution_count": null,
   "metadata": {},
   "outputs": [],
   "source": [
    "\n"
   ]
  }
 ],
 "metadata": {
  "kernelspec": {
   "display_name": "Python 3",
   "language": "python",
   "name": "python3"
  },
  "language_info": {
   "codemirror_mode": {
    "name": "ipython",
    "version": 3
   },
   "file_extension": ".py",
   "mimetype": "text/x-python",
   "name": "python",
   "nbconvert_exporter": "python",
   "pygments_lexer": "ipython3",
   "version": "3.7.0"
  }
 },
 "nbformat": 4,
 "nbformat_minor": 2
}
