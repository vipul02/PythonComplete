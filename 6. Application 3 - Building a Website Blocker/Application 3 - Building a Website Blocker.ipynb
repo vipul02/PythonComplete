{
 "cells": [
  {
   "cell_type": "code",
   "execution_count": 1,
   "metadata": {},
   "outputs": [],
   "source": [
    "import time\n",
    "from datetime import datetime as dt"
   ]
  },
  {
   "cell_type": "code",
   "execution_count": 5,
   "metadata": {},
   "outputs": [],
   "source": [
    "hosts_orignal = r'C:\\Windows\\System32\\drivers\\etc\\hosts'\n",
    "hosts_temp = 'hosts'\n",
    "hosts_original_copy = 'hosts_original_copy'\n",
    "redirect = '127.0.0.1'\n",
    "website_block = [\"www.facebook.com\", \"facebook.com\"]"
   ]
  },
  {
   "cell_type": "code",
   "execution_count": 21,
   "metadata": {},
   "outputs": [],
   "source": [
    "def block():\n",
    "    with open(hosts_temp, 'r+') as file:\n",
    "        content = file.read()\n",
    "        for website in website_block:\n",
    "            if website not in content:\n",
    "                file.write(redirect + '\\t' + website + '\\n')\n",
    "            else:\n",
    "                print('Already blocked')\n",
    "        file.flush()"
   ]
  },
  {
   "cell_type": "code",
   "execution_count": 22,
   "metadata": {},
   "outputs": [
    {
     "name": "stdout",
     "output_type": "stream",
     "text": [
      "Already blocked\n",
      "Already blocked\n"
     ]
    }
   ],
   "source": [
    "if dt(dt.now().year, dt.now().month, dt.now().day, 16) > dt.now():\n",
    "    block()"
   ]
  },
  {
   "cell_type": "code",
   "execution_count": null,
   "metadata": {},
   "outputs": [],
   "source": [
    "\n"
   ]
  }
 ],
 "metadata": {
  "kernelspec": {
   "display_name": "Python 3",
   "language": "python",
   "name": "python3"
  },
  "language_info": {
   "codemirror_mode": {
    "name": "ipython",
    "version": 3
   },
   "file_extension": ".py",
   "mimetype": "text/x-python",
   "name": "python",
   "nbconvert_exporter": "python",
   "pygments_lexer": "ipython3",
   "version": "3.7.0"
  }
 },
 "nbformat": 4,
 "nbformat_minor": 2
}
