{
 "cells": [
  {
   "cell_type": "code",
   "execution_count": 1,
   "metadata": {},
   "outputs": [],
   "source": [
    "import time\n",
    "from datetime import datetime as dt"
   ]
  },
  {
   "cell_type": "code",
   "execution_count": 38,
   "metadata": {},
   "outputs": [],
   "source": [
    "hosts_orignal = r'C:\\Windows\\System32\\drivers\\etc\\hosts'\n",
    "hosts_temp = 'hosts'\n",
    "hosts_original_copy = 'hosts_original_copy'\n",
    "redirect = '127.0.0.1'\n",
    "website_block = [\"www.facebook.com\", \"facebook.com\"]\n",
    "happy_hours_start = dt(dt.now().year, dt.now().month, dt.now().day, 4)\n",
    "working_hours_start = dt(dt.now().year, dt.now().month, dt.now().day, 2)"
   ]
  },
  {
   "cell_type": "code",
   "execution_count": 29,
   "metadata": {},
   "outputs": [],
   "source": [
    "def block():\n",
    "    with open(hosts_temp, 'r+') as file:\n",
    "        content = file.read()\n",
    "        for website in website_block:\n",
    "            if website not in content:\n",
    "                file.write(redirect + '\\t' + website + '\\n')\n",
    "                print(website + ', blocked.')\n",
    "            else:\n",
    "                print(website + ', already blocked.')\n",
    "        file.flush()"
   ]
  },
  {
   "cell_type": "code",
   "execution_count": 33,
   "metadata": {},
   "outputs": [],
   "source": [
    "def unblock():\n",
    "    with open(hosts_temp, 'r+') as file:\n",
    "        content = file.readlines()\n",
    "        file.seek(0)\n",
    "        for line in content:\n",
    "            if not any(website in line for website in website_block):\n",
    "                file.write(line)\n",
    "        file.truncate()\n",
    "    print('Unblocked! Enjoy your fun hours')"
   ]
  },
  {
   "cell_type": "code",
   "execution_count": 39,
   "metadata": {},
   "outputs": [
    {
     "name": "stdout",
     "output_type": "stream",
     "text": [
      "Unblocked! Enjoy your fun hours\n"
     ]
    }
   ],
   "source": [
    "if working_hours_start < dt.now() < happy_hours_start:\n",
    "    block()\n",
    "else:\n",
    "    unblock()"
   ]
  },
  {
   "cell_type": "code",
   "execution_count": null,
   "metadata": {},
   "outputs": [],
   "source": [
    "# todo, modify original hosts located in system32\\drivers\\etc file\n",
    "# save script as .pyw and hand it over to task scheduler to run it whenever my computer starts"
   ]
  }
 ],
 "metadata": {
  "kernelspec": {
   "display_name": "Python 3",
   "language": "python",
   "name": "python3"
  },
  "language_info": {
   "codemirror_mode": {
    "name": "ipython",
    "version": 3
   },
   "file_extension": ".py",
   "mimetype": "text/x-python",
   "name": "python",
   "nbconvert_exporter": "python",
   "pygments_lexer": "ipython3",
   "version": "3.7.0"
  }
 },
 "nbformat": 4,
 "nbformat_minor": 2
}
